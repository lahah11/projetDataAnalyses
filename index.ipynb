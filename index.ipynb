{
 "cells": [
  {
   "cell_type": "markdown",
   "metadata": {},
   "source": [
    "# Sid'Ahmed Lahah\n",
    "# Projet\n"
   ]
  },
  {
   "cell_type": "markdown",
   "metadata": {},
   "source": [
    "# Statisyic revolution \n",
    "![img](datasets/img.jpg) \n",
    "<p>Judge est l'un des joueurs les plus grands physiquement de la Major League Baseball, mesurant 6 pieds 7 pouces (2,01 m) et pesant 282 livres (128 kg).Il a également frappé le coup de circuit le plus dur jamais enregistré. Comment le savons nous? Diffusion de statistiques.Statcast est un système de suivi de pointe qui utilise des caméras à haute résolution et un équipement radar pour mesurer l'emplacement et le mouvement précis des balles de baseball et des joueurs de baseball. Introduites en 2015 dans les 30 stades de baseball des ligues majeures, les données Statcast révolutionnent le jeu. Les équipes se livrent à une « course aux armements » d'analyse de données, embauchant des analystes à gauche et à droite dans le but de prendre l'avantage sur leurs concurrents. Cette vidéo décrivant le système est incroyable.\n",
    "\n",
    "Dans ce cahier, nous allons débattre, analyser et visualiser les données Statcast pour comparer M. Judge et un autre (très grand) coéquipier. Commençons par charger les données dans notre Notebook. Il existe deux fichiers CSV, Judge.csv et stanton.csv, qui contiennent tous deux des données Statcast pour 2015-2017. Nous utiliserons pandas DataFrames pour stocker ces données. Chargeons également nos bibliothèques de visualisation de données, matplotlib et seaborn.</p>"
   ]
  },
  {
   "cell_type": "markdown",
   "metadata": {},
   "source": [
    "Importons les bibliothèques nécessaires"
   ]
  },
  {
   "cell_type": "code",
   "execution_count": null,
   "metadata": {},
   "outputs": [],
   "source": [
    "import pandas as pd\n",
    "import matplotlib.pyplot as plt\n",
    "import seaborn as sns\n"
   ]
  },
  {
   "cell_type": "markdown",
   "metadata": {},
   "source": [
    "recupperation des informations des bases de données"
   ]
  },
  {
   "cell_type": "code",
   "execution_count": null,
   "metadata": {},
   "outputs": [],
   "source": [
    "# Charger les données Statcast d'Aaron Judge\n",
    "judge = pd.read_csv('datasets/judge.csv')\n",
    "\n",
    "# Charger les données Statcast de Giancarlo Stanton\n",
    "stanton = pd.read_csv('datasets/stanton.csv')"
   ]
  },
  {
   "cell_type": "markdown",
   "metadata": {},
   "source": [
    "##  Que peut mesurer Statcast ?\n",
    "<p>La meilleure question pourrait être, qu'est-ce que Statcast ne peut pas mesurer ?\n",
    "\n",
    "En commençant par le lanceur, Statcast peut mesurer des points de données simples tels que la vitesse. Dans le même temps, Statcast creuse beaucoup plus profondément, mesurant également le point de relâchement et la vitesse de rotation de chaque pas.\n",
    "\n",
    "Passant aux frappeurs, Statcast est capable de mesurer la vitesse de sortie, l'angle de lancement et le vecteur de la balle lorsqu'elle sort du bâton. À partir de là, Statcast peut également suivre le temps de suspension et la distance projetée parcourue par une balle.\n",
    "\n",
    "Inspectons les cinq dernières lignes du juge DataFrame. Vous verrez que chaque ligne représente un lancer lancé à un frappeur. Vous verrez également que certaines colonnes ont des noms ésotériques. Si ceux-ci n'ont pas de sens maintenant, ne vous inquiétez pas. Ceux qui sont pertinents seront expliqués si nécessaire.</p>"
   ]
  },
  {
   "cell_type": "code",
   "execution_count": null,
   "metadata": {},
   "outputs": [],
   "source": [
    "# Display all columns (pandas will collapse some columns if we don't set this option)\n",
    "pd.set_option('display.max_columns', None)\n",
    "\n",
    "# Display the last five rows of the Aaron Judge file\n",
    "judge.tail()\n"
   ]
  },
  {
   "cell_type": "markdown",
   "metadata": {},
   "source": [
    "## Aaron Judge and Giancarlo Stanton, prolific sluggers\n",
    "![img](datasets/img1.jpg)\n",
    "<p>C'est Giancarlo Stanton. C'est aussi un être humain très grand, mesurant 6 pieds 6 pouces et pesant 245 livres. Bien qu'ils ne portent pas le même maillot que Judge sur les photos fournies, en 2018, ils seront coéquipiers des Yankees de New York. Ils sont similaires à bien des égards, l'un étant qu'ils frappent beaucoup de coups de circuit. Stanton et Judge ont mené le baseball dans les circuits en 2017, avec 59 et 52, respectivement. Ce sont des totaux exceptionnels - le joueur en troisième \"seulement\" a eu 45 circuits.\n",
    "\n",
    "Stanton et Judge sont également différents à bien des égards. L'un est les événements de balle frappée, c'est-à-dire toute balle frappée qui produit un résultat. Cela inclut les outs, les hits et les erreurs. Ensuite, vous trouverez le nombre d'événements de balles frappées pour chaque joueur en 2017. Les fréquences des autres événements sont assez différentes.<p>"
   ]
  },
  {
   "cell_type": "code",
   "execution_count": null,
   "metadata": {},
   "outputs": [],
   "source": [
    "# Tous les événements de balle frappée d'Aaron Judge en 2017\n",
    "judge_events_2017 = judge.loc[judge['game_year'] == 2017].events\n",
    "print(\"Aaron Judge batted ball event totals, 2017:\")\n",
    "print(judge_events_2017.value_counts())\n",
    "\n",
    "# Tous les événements de balle frappée de Giancarlo Stanton en 2017\n",
    "stanton_events_2017 = stanton.loc[stanton['game_year'] == 2017].events\n",
    "print(\"\\nGiancarlo Stanton batted ball event totals, 2017:\")\n",
    "print(stanton_events_2017.value_counts())"
   ]
  },
  {
   "cell_type": "markdown",
   "metadata": {},
   "source": [
    "## Analyser les home runs avec les données Statcast\n",
    "<p>Alors Judge marche et frappe plus que Stanton. Stanton vole plus que Judge. Mais entrons plus en détail dans leurs profils de frappe. Deux des métriques Statcast les plus révolutionnaires sont l'angle de lancement et la vitesse de sortie :\n",
    "\n",
    "Angle de lancement : \n",
    ".l'angle vertical auquel la balle quitte la batte d'un joueur\n",
    "Vitesse de sortie :\n",
    ". la vitesse de la balle de baseball lorsqu'elle sort du bâton\n",
    "Ces nouvelles données ont changé la façon dont les équipes évaluent à la fois les frappeurs et les lanceurs. Pourquoi? Selon le Washington Post :\n",
    "\n",
    "Les balles frappées avec un angle de lancement élevé sont plus susceptibles d'entraîner un coup. Frappés assez vite et au bon angle, ils deviennent des home runs.\n",
    "\n",
    "Regardons la vitesse de sortie par rapport à l'angle de lancement et concentrons-nous uniquement sur les circuits (2015-2017). Les deux premiers graphiques montrent des points de données. Les deux seconds montrent des contours lissés pour représenter la densité.<p>"
   ]
  },
  {
   "cell_type": "code",
   "execution_count": null,
   "metadata": {},
   "outputs": [],
   "source": [
    "# Filtrer pour n'inclure que les coups de circuit\n",
    "judge_hr = judge.loc[judge['events'] == 'home_run']\n",
    "stanton_hr = stanton.loc[stanton['events'] == 'home_run']\n",
    "\n",
    "# Créez une figure avec deux diagrammes de dispersion de la vitesse de lancement par rapport à l'angle de lancement, un pour les circuits de chaque joueur\n",
    "fig1, axs1 = plt.subplots(ncols=2, sharex=True, sharey=True)\n",
    "sns.regplot(x='launch_angle', y='launch_speed', fit_reg=False, color='tab:blue', data=judge_hr, ax=axs1[0]).set_title('Aaron Judge\\nHome Runs, 2015-2017')\n",
    "sns.regplot(x='launch_angle', y='launch_speed', fit_reg=False, color='tab:blue', data=stanton_hr, ax=axs1[1]).set_title('Giancarlo Stanton\\nHome Runs, 2015-2017')\n",
    "\n",
    "# Créez une figure avec deux tracés KDE de la vitesse de lancement par rapport à l'angle de lancement, un pour les circuits de chaque joueur\n",
    "fig2, axs2 = plt.subplots(ncols=2, sharex=True, sharey=True)\n",
    "sns.kdeplot(judge_hr.launch_angle, judge_hr.launch_speed, cmap=\"Blues\", shade=True, shade_lowest=False, ax=axs2[0]).set_title('Aaron Judge\\nHome Runs, 2015-2017')\n",
    "sns.kdeplot(stanton_hr.launch_angle, stanton_hr.launch_speed, cmap=\"Blues\", shade=True, shade_lowest=False, ax=axs2[1]).set_title('Giancarlo Stanton\\nHome Runs, 2015-2017')"
   ]
  },
  {
   "cell_type": "markdown",
   "metadata": {},
   "source": [
    "## Coups de circuit par vitesse de tangage\n",
    "<p>Il semble que Stanton frappe ses circuits légèrement plus bas et légèrement plus durs que Judge, bien que cela doive être pris avec un grain de sel étant donné la petite taille de l'échantillon de circuits.\n",
    "\n",
    "Non seulement Statcast mesure la vitesse de la balle sortant de la batte, mais il mesure la vitesse de la balle sortant de la main du lanceur et commence son voyage vers la plaque. Nous pouvons utiliser ces données pour comparer les home runs de Stanton et Judge en termes de vitesse de tangage. Ensuite, vous trouverez des boîtes à moustaches affichant les résumés à cinq chiffres pour chaque joueur : minimum, premier quartile, médiane, troisième quartile et maximum."
   ]
  },
  {
   "cell_type": "code",
   "execution_count": null,
   "metadata": {},
   "outputs": [],
   "source": [
    "# Combinez les DataFrames Judge et Stanton home run pour un traçage facile des boîtes à moustaches\n",
    "judge_stanton_hr = pd.concat([judge_hr, stanton_hr])\n",
    "\n",
    "# Créez une boîte à moustaches qui décrit la vitesse de pitch des home runs de chaque joueur\n",
    "sns.boxplot(x='player_name', y='release_speed', color='tab:blue', data=judge_stanton_hr).set_title('Home Runs, 2015-2017')"
   ]
  },
  {
   "cell_type": "markdown",
   "metadata": {},
   "source": [
    "## Coups de circuit par emplacement de terrain 1\n",
    "Le juge semble donc frapper ses coups de circuit sur des lancers plus rapides que Stanton. Nous pourrions appeler Judge un frappeur de balle rapide. Stanton semble indifférent à la vitesse de pitch et au mouvement de pitch probable, car les pitchs plus lents (par exemple, les balles courbes, les curseurs et les changements) ont tendance à avoir plus de pause. Statcast suit le mouvement et le type de hauteur, mais passons à autre chose : l'emplacement de la hauteur. Statcast suit la zone dans laquelle se trouve le terrain lorsqu'il traverse la plaque. La numérotation des zones ressemble à ceci (du point de vue du receveur) :\n",
    "\n",
    "![img](datasets/img2.png)\n",
    "\n",
    "Nous pouvons tracer cela à l'aide d'un histogramme 2D. Pour simplifier, regardons uniquement les grèves, ce qui nous donne une grille 9x9. Nous pouvons visualiser chaque zone sous forme de coordonnées sur un tracé 2D, le coin inférieur gauche étant (1,1) et le coin supérieur droit étant (3,3). Configurons une fonction pour attribuer des coordonnées x à chaque emplacement."
   ]
  },
  {
   "cell_type": "code",
   "execution_count": null,
   "metadata": {},
   "outputs": [],
   "source": [
    "def assign_x_coord(row):\n",
    "    \"\"\"\n",
    "    Assigns an x-coordinate to Statcast's strike zone numbers. Zones 11, 12, 13,\n",
    "    and 14 are ignored for plotting simplicity.\n",
    "    \"\"\"\n",
    "    # Tiers gauche de la zone de frappe\n",
    "    if row.zone in [1, 4, 7]:\n",
    "        return 1\n",
    "    # Tiers médian de la zone de frappe\n",
    "    if row.zone in [2, 5, 8]:\n",
    "        return 2\n",
    "    # Tiers droit de la zone de frappe\n",
    "    if row.zone in [3, 6, 9]:\n",
    "        return 3"
   ]
  },
  {
   "cell_type": "markdown",
   "metadata": {},
   "source": [
    "## Coups de circuit par emplacement de terrain 2\n",
    "Et faisons la même chose mais pour les coordonnées y."
   ]
  },
  {
   "cell_type": "code",
   "execution_count": null,
   "metadata": {},
   "outputs": [],
   "source": [
    "def assign_y_coord(row):\n",
    "    \"\"\"\n",
    "    Assigns a y-coordinate to Statcast's strike zone numbers. Zones 11, 12, 13,\n",
    "    and 14 are ignored for plotting simplicity.\n",
    "    \"\"\"\n",
    "    # Tiers supérieur de la zone de frappe\n",
    "    if row.zone in [1, 2, 3]:\n",
    "        return 3\n",
    "    # Tiers médian de la zone de frappe\n",
    "    if row.zone in [4, 5, 6]:\n",
    "        return 2\n",
    "    # Tiers inférieur de la zone de frappe\n",
    "    if row.zone in [7, 8, 9]:\n",
    "        return 1"
   ]
  },
  {
   "cell_type": "markdown",
   "metadata": {},
   "source": [
    "## La zone du coup de circuit d'Aaron Judge\n",
    "Nous pouvons maintenant appliquer les fonctions que nous avons créées puis construire nos histogrammes 2D. Premièrement, pour Aaron Judge (encore une fois, pour les lancers dans la zone de frappe qui ont entraîné des circuits)."
   ]
  },
  {
   "cell_type": "code",
   "execution_count": null,
   "metadata": {},
   "outputs": [],
   "source": [
    "# Les zones 11, 12, 13 et 14 doivent être ignorées pour la simplicité du traçage\n",
    "judge_strike_hr = judge_hr.copy().loc[judge_hr.zone <= 9]\n",
    "\n",
    "# Attribuez des coordonnées cartésiennes aux emplacements dans la zone de frappe pour les circuits du juge\n",
    "judge_strike_hr['zone_x'] = judge_strike_hr.apply(assign_x_coord, axis=1)\n",
    "judge_strike_hr['zone_y'] = judge_strike_hr.apply(assign_y_coord, axis=1)\n",
    "\n",
    "# Tracer la zone de home run du juge de terrain sous forme d'histogramme 2D avec une barre de couleur\n",
    "plt.hist2d(judge_strike_hr.zone_x, judge_strike_hr.zone_y, bins = 3, cmap='Blues')\n",
    "plt.title('Aaron Judge Home Runs on\\n Pitches in the Strike Zone, 2015-2017')\n",
    "plt.gca().get_xaxis().set_visible(False)\n",
    "plt.gca().get_yaxis().set_visible(False)\n",
    "cb = plt.colorbar()\n",
    "cb.set_label('Counts in Bin')"
   ]
  },
  {
   "cell_type": "markdown",
   "metadata": {},
   "source": [
    "## La zone du coup de circuit de Giancarlo Stanton\n",
    "Et maintenant pour Giancarlo Stanton."
   ]
  },
  {
   "cell_type": "code",
   "execution_count": null,
   "metadata": {},
   "outputs": [],
   "source": [
    "# Zones 11, 12, 13, and 14 are to be ignored for plotting simplicity\n",
    "stanton_strike_hr = stanton_hr.copy().loc[stanton_hr.zone <= 9]\n",
    "\n",
    "# Assign Cartesian coordinates to pitches in the strike zone for Stanton home runs\n",
    "# ... YOUR CODE FOR TASK 9 ...\n",
    "# ... YOUR CODE FOR TASK 9 ...\n",
    "\n",
    "# Plot Stanton's home run zone as a 2D histogram with a colorbar\n",
    "# ... YOUR CODE FOR TASK 9 ...\n",
    "plt.title('Giancarlo Stanton Home Runs on\\n Pitches in the Strike Zone, 2015-2017')\n",
    "plt.gca().get_xaxis().set_visible(False)\n",
    "plt.gca().get_yaxis().set_visible(False)\n",
    "cb = plt.colorbar()\n",
    "cb.set_label('Counts in Bin')"
   ]
  },
  {
   "cell_type": "markdown",
   "metadata": {},
   "source": [
    "## Les lanceurs adverses doivent-ils avoir peur ?\n",
    "Quelques plats à emporter :\n",
    "\n",
    ".Stanton ne frappe pas beaucoup de circuits sur les terrains du tiers supérieur de la zone de frappe.\n",
    ".Comme à peu près tous les frappeurs de tous les temps, les deux joueurs adorent les lancers au milieu horizontal et vertical de la plaque.\n",
    ".Le lancer de home run le moins préféré du juge semble être haut, tandis que celui de Stanton semble être bas.\n",
    ".Si nous devions décrire la zone du home run de Stanton, ce serait le centre-intérieur. La zone du coup de circuit du juge est beaucoup plus étendue.\n",
    "\n",
    "Le grand point à retenir de tout cet exercice : Aaron Judge et Giancarlo Stanton ne sont pas identiques malgré leurs similitudes superficielles. En termes de coups de circuit, leurs profils de lancement, ainsi que leur vitesse de pitch et leurs préférences de localisation, sont différents.\n",
    "\n",
    "Les lanceurs adverses doivent-ils encore avoir peur ?"
   ]
  },
  {
   "cell_type": "code",
   "execution_count": null,
   "metadata": {},
   "outputs": [],
   "source": [
    "# Les lanceurs adverses devraient-ils se méfier d'Aaron Judge et de Giancarlo Stanton\n",
    "should_pitchers_be_scared = True"
   ]
  },
  {
   "cell_type": "markdown",
   "metadata": {},
   "source": []
  },
  {
   "cell_type": "markdown",
   "metadata": {},
   "source": []
  },
  {
   "cell_type": "markdown",
   "metadata": {},
   "source": []
  }
 ],
 "metadata": {
  "language_info": {
   "name": "python"
  },
  "orig_nbformat": 4
 },
 "nbformat": 4,
 "nbformat_minor": 2
}
